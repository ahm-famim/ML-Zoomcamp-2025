{
 "cells": [
  {
   "cell_type": "markdown",
   "id": "343a7982",
   "metadata": {
    "papermill": {
     "duration": 0.00345,
     "end_time": "2025-09-20T04:37:25.352111",
     "exception": false,
     "start_time": "2025-09-20T04:37:25.348661",
     "status": "completed"
    },
    "tags": []
   },
   "source": [
    "This is my code for Machine Learning Zoomcamp Assignment 01"
   ]
  },
  {
   "cell_type": "code",
   "execution_count": 1,
   "id": "df23f49b",
   "metadata": {
    "execution": {
     "iopub.execute_input": "2025-09-20T04:37:25.359761Z",
     "iopub.status.busy": "2025-09-20T04:37:25.359371Z",
     "iopub.status.idle": "2025-09-20T04:37:29.844246Z",
     "shell.execute_reply": "2025-09-20T04:37:29.842670Z"
    },
    "papermill": {
     "duration": 4.491119,
     "end_time": "2025-09-20T04:37:29.846407",
     "exception": false,
     "start_time": "2025-09-20T04:37:25.355288",
     "status": "completed"
    },
    "tags": []
   },
   "outputs": [
    {
     "name": "stdout",
     "output_type": "stream",
     "text": [
      "The pandas version is:\n",
      "2.2.3\n"
     ]
    }
   ],
   "source": [
    "import pandas as pd\n",
    "import numpy as np\n",
    "import seaborn as sb\n",
    "\n",
    "#How many records are in the dataset?\n",
    "print(f\"The pandas version is:\")\n",
    "print(pd.__version__)"
   ]
  },
  {
   "cell_type": "code",
   "execution_count": 2,
   "id": "c43c62ca",
   "metadata": {
    "execution": {
     "iopub.execute_input": "2025-09-20T04:37:29.854325Z",
     "iopub.status.busy": "2025-09-20T04:37:29.853539Z",
     "iopub.status.idle": "2025-09-20T04:37:30.093070Z",
     "shell.execute_reply": "2025-09-20T04:37:30.091731Z"
    },
    "papermill": {
     "duration": 0.245645,
     "end_time": "2025-09-20T04:37:30.095052",
     "exception": false,
     "start_time": "2025-09-20T04:37:29.849407",
     "status": "completed"
    },
    "tags": []
   },
   "outputs": [
    {
     "name": "stdout",
     "output_type": "stream",
     "text": [
      "The records count of the dataset:\n",
      "9704\n"
     ]
    }
   ],
   "source": [
    "#How many records are in the dataset\n",
    "csv_url ='https://raw.githubusercontent.com/alexeygrigorev/datasets/master/car_fuel_efficiency.csv'\n",
    "df = pd.read_csv(csv_url)\n",
    "num_rows = len(df)\n",
    "print(f\"The records count of the dataset:\")\n",
    "print(num_rows)"
   ]
  },
  {
   "cell_type": "code",
   "execution_count": 3,
   "id": "d0291833",
   "metadata": {
    "execution": {
     "iopub.execute_input": "2025-09-20T04:37:30.101611Z",
     "iopub.status.busy": "2025-09-20T04:37:30.101279Z",
     "iopub.status.idle": "2025-09-20T04:37:30.129439Z",
     "shell.execute_reply": "2025-09-20T04:37:30.127733Z"
    },
    "papermill": {
     "duration": 0.034026,
     "end_time": "2025-09-20T04:37:30.131662",
     "exception": false,
     "start_time": "2025-09-20T04:37:30.097636",
     "status": "completed"
    },
    "tags": []
   },
   "outputs": [
    {
     "name": "stdout",
     "output_type": "stream",
     "text": [
      "<bound method NDFrame.head of       engine_displacement  num_cylinders  horsepower  vehicle_weight  \\\n",
      "0                     170            3.0       159.0     3413.433759   \n",
      "1                     130            5.0        97.0     3149.664934   \n",
      "2                     170            NaN        78.0     3079.038997   \n",
      "3                     220            4.0         NaN     2542.392402   \n",
      "4                     210            1.0       140.0     3460.870990   \n",
      "...                   ...            ...         ...             ...   \n",
      "9699                  140            5.0       164.0     2981.107371   \n",
      "9700                  180            NaN       154.0     2439.525729   \n",
      "9701                  220            2.0       138.0     2583.471318   \n",
      "9702                  230            4.0       177.0     2905.527390   \n",
      "9703                  270            3.0       140.0     2908.043477   \n",
      "\n",
      "      acceleration  model_year  origin fuel_type         drivetrain  \\\n",
      "0             17.7        2003  Europe  Gasoline    All-wheel drive   \n",
      "1             17.8        2007     USA  Gasoline  Front-wheel drive   \n",
      "2             15.1        2018  Europe  Gasoline  Front-wheel drive   \n",
      "3             20.2        2009     USA    Diesel    All-wheel drive   \n",
      "4             14.4        2009  Europe  Gasoline    All-wheel drive   \n",
      "...            ...         ...     ...       ...                ...   \n",
      "9699          17.3        2013  Europe    Diesel  Front-wheel drive   \n",
      "9700          15.0        2004     USA  Gasoline    All-wheel drive   \n",
      "9701          15.1        2008     USA    Diesel    All-wheel drive   \n",
      "9702          19.4        2011     USA    Diesel  Front-wheel drive   \n",
      "9703          14.7        2005    Asia    Diesel    All-wheel drive   \n",
      "\n",
      "      num_doors  fuel_efficiency_mpg  \n",
      "0           0.0            13.231729  \n",
      "1           0.0            13.688217  \n",
      "2           0.0            14.246341  \n",
      "3           2.0            16.912736  \n",
      "4           2.0            12.488369  \n",
      "...         ...                  ...  \n",
      "9699        NaN            15.101802  \n",
      "9700        0.0            17.962326  \n",
      "9701       -1.0            17.186587  \n",
      "9702        1.0            15.331551  \n",
      "9703       -1.0            14.884467  \n",
      "\n",
      "[9704 rows x 11 columns]>\n"
     ]
    },
    {
     "name": "stderr",
     "output_type": "stream",
     "text": [
      "/usr/local/lib/python3.11/dist-packages/pandas/io/formats/format.py:1458: RuntimeWarning: invalid value encountered in greater\n",
      "  has_large_values = (abs_vals > 1e6).any()\n",
      "/usr/local/lib/python3.11/dist-packages/pandas/io/formats/format.py:1459: RuntimeWarning: invalid value encountered in less\n",
      "  has_small_values = ((abs_vals < 10 ** (-self.digits)) & (abs_vals > 0)).any()\n",
      "/usr/local/lib/python3.11/dist-packages/pandas/io/formats/format.py:1459: RuntimeWarning: invalid value encountered in greater\n",
      "  has_small_values = ((abs_vals < 10 ** (-self.digits)) & (abs_vals > 0)).any()\n"
     ]
    }
   ],
   "source": [
    "print(df.head)"
   ]
  },
  {
   "cell_type": "code",
   "execution_count": 4,
   "id": "4c563135",
   "metadata": {
    "execution": {
     "iopub.execute_input": "2025-09-20T04:37:30.140160Z",
     "iopub.status.busy": "2025-09-20T04:37:30.139721Z",
     "iopub.status.idle": "2025-09-20T04:37:30.159496Z",
     "shell.execute_reply": "2025-09-20T04:37:30.158235Z"
    },
    "papermill": {
     "duration": 0.026207,
     "end_time": "2025-09-20T04:37:30.161726",
     "exception": false,
     "start_time": "2025-09-20T04:37:30.135519",
     "status": "completed"
    },
    "tags": []
   },
   "outputs": [
    {
     "name": "stdout",
     "output_type": "stream",
     "text": [
      "['Gasoline' 'Diesel']\n",
      "The types of fuel are:\n"
     ]
    },
    {
     "data": {
      "text/plain": [
       "2"
      ]
     },
     "execution_count": 4,
     "metadata": {},
     "output_type": "execute_result"
    }
   ],
   "source": [
    "#How many fuel types are presented in the dataset?\n",
    "fuel=df['fuel_type']\n",
    "types_fuel= fuel.unique()\n",
    "counts_types_fuel=fuel.value_counts()\n",
    "print(types_fuel)\n",
    "print(f\"The types of fuel are:\")\n",
    "len(types_fuel)"
   ]
  },
  {
   "cell_type": "code",
   "execution_count": 5,
   "id": "d07bd56f",
   "metadata": {
    "execution": {
     "iopub.execute_input": "2025-09-20T04:37:30.169110Z",
     "iopub.status.busy": "2025-09-20T04:37:30.168789Z",
     "iopub.status.idle": "2025-09-20T04:37:30.180281Z",
     "shell.execute_reply": "2025-09-20T04:37:30.179151Z"
    },
    "papermill": {
     "duration": 0.017249,
     "end_time": "2025-09-20T04:37:30.182141",
     "exception": false,
     "start_time": "2025-09-20T04:37:30.164892",
     "status": "completed"
    },
    "tags": []
   },
   "outputs": [
    {
     "name": "stdout",
     "output_type": "stream",
     "text": [
      "The number of missing values are:\n"
     ]
    },
    {
     "data": {
      "text/plain": [
       "4"
      ]
     },
     "execution_count": 5,
     "metadata": {},
     "output_type": "execute_result"
    }
   ],
   "source": [
    "#How many columns in the dataset have missing values?\n",
    "print(f\"The number of missing values are:\")\n",
    "len(df.columns[df.isnull().any()])"
   ]
  },
  {
   "cell_type": "code",
   "execution_count": 6,
   "id": "5f6a310e",
   "metadata": {
    "execution": {
     "iopub.execute_input": "2025-09-20T04:37:30.189821Z",
     "iopub.status.busy": "2025-09-20T04:37:30.189394Z",
     "iopub.status.idle": "2025-09-20T04:37:30.199660Z",
     "shell.execute_reply": "2025-09-20T04:37:30.198605Z"
    },
    "papermill": {
     "duration": 0.016375,
     "end_time": "2025-09-20T04:37:30.201549",
     "exception": false,
     "start_time": "2025-09-20T04:37:30.185174",
     "status": "completed"
    },
    "tags": []
   },
   "outputs": [
    {
     "name": "stdout",
     "output_type": "stream",
     "text": [
      "23.759122836520497\n"
     ]
    }
   ],
   "source": [
    "#What's the maximum fuel efficiency of cars from Asia?\n",
    "cars_from_asia=df[df['origin']=='Asia'].copy()\n",
    "fuel_ef=cars_from_asia['fuel_efficiency_mpg']\n",
    "max_fuel_ef=fuel_ef.max()\n",
    "print(max_fuel_ef)"
   ]
  },
  {
   "cell_type": "code",
   "execution_count": 7,
   "id": "74902d68",
   "metadata": {
    "execution": {
     "iopub.execute_input": "2025-09-20T04:37:30.209447Z",
     "iopub.status.busy": "2025-09-20T04:37:30.209078Z",
     "iopub.status.idle": "2025-09-20T04:37:30.219939Z",
     "shell.execute_reply": "2025-09-20T04:37:30.218453Z"
    },
    "papermill": {
     "duration": 0.016899,
     "end_time": "2025-09-20T04:37:30.221703",
     "exception": false,
     "start_time": "2025-09-20T04:37:30.204804",
     "status": "completed"
    },
    "tags": []
   },
   "outputs": [
    {
     "name": "stdout",
     "output_type": "stream",
     "text": [
      "The original median value is:\n",
      "149.0\n",
      "The new median value is:\n",
      "new_med_hp\n",
      "No.The median stays the same\n"
     ]
    }
   ],
   "source": [
    "#Median value of horsepower\n",
    "\n",
    "hp=df['horsepower']\n",
    "med_hp=hp.median()\n",
    "print(f\"The original median value is:\")\n",
    "print(med_hp)\n",
    "fill_missingvalues_with_medianvalues=hp.fillna(hp.median())\n",
    "new_med_hp=fill_missingvalues_with_medianvalues.median()\n",
    "print(f\"The new median value is:\")\n",
    "print(f\"new_med_hp\")\n",
    "\n",
    "if med_hp < new_med_hp:\n",
    "    print(\"Yes, it increased\")\n",
    "elif med_hp > new_med_hp:\n",
    "    print(\"Yes, it decreased\")\n",
    "elif med_hp == new_med_hp:\n",
    "    print(\"No.The median stays the same\")"
   ]
  },
  {
   "cell_type": "code",
   "execution_count": 8,
   "id": "939518ee",
   "metadata": {
    "execution": {
     "iopub.execute_input": "2025-09-20T04:37:30.229410Z",
     "iopub.status.busy": "2025-09-20T04:37:30.229071Z",
     "iopub.status.idle": "2025-09-20T04:37:30.297208Z",
     "shell.execute_reply": "2025-09-20T04:37:30.295383Z"
    },
    "papermill": {
     "duration": 0.074208,
     "end_time": "2025-09-20T04:37:30.299216",
     "exception": false,
     "start_time": "2025-09-20T04:37:30.225008",
     "status": "completed"
    },
    "tags": []
   },
   "outputs": [
    {
     "name": "stdout",
     "output_type": "stream",
     "text": [
      "    vehicle_weight  model_year\n",
      "8      2714.219310        2016\n",
      "12     2783.868974        2010\n",
      "14     3582.687368        2007\n",
      "20     2231.808142        2011\n",
      "21     2659.431451        2016\n",
      "34     2844.227534        2014\n",
      "38     3761.994038        2019\n",
      "[[2714.21930965 2016.        ]\n",
      " [2783.86897424 2010.        ]\n",
      " [3582.68736772 2007.        ]\n",
      " [2231.8081416  2011.        ]\n",
      " [2659.43145076 2016.        ]\n",
      " [2844.22753389 2014.        ]\n",
      " [3761.99403819 2019.        ]]\n",
      "[[2714.21930965 2783.86897424 3582.68736772 2231.8081416  2659.43145076\n",
      "  2844.22753389 3761.99403819]\n",
      " [2016.         2010.         2007.         2011.         2016.\n",
      "  2014.         2019.        ]]\n",
      "[[62248334.33150762 41431216.5073268 ]\n",
      " [41431216.5073268  28373339.        ]]\n",
      "[[ 5.71497081e-07 -8.34509443e-07]\n",
      " [-8.34509443e-07  1.25380877e-06]]\n",
      "[1100 1300  800  900 1000 1100 1200]\n",
      "The sum of all elements is:\n",
      "0.5187709081074008\n"
     ]
    }
   ],
   "source": [
    "asia_cars=df[df['origin']=='Asia'].copy()\n",
    "selected_data=asia_cars[['vehicle_weight', 'model_year']].head(7)\n",
    "print(selected_data)\n",
    "x=selected_data.to_numpy()\n",
    "print(x)\n",
    "x_t=x.T\n",
    "print(x_t)\n",
    "xtx=np.dot(x_t,x)\n",
    "print(xtx)\n",
    "invert_xtx=np.linalg.inv(xtx)\n",
    "print(invert_xtx)\n",
    "y=np.array([1100, 1300, 800, 900, 1000, 1100, 1200])\n",
    "print(y)\n",
    "w=np.dot(invert_xtx,np.dot(x_t,y))\n",
    "sum_of_w=w.sum()\n",
    "print(f\"The sum of all elements is:\")\n",
    "print(sum_of_w)"
   ]
  }
 ],
 "metadata": {
  "kaggle": {
   "accelerator": "none",
   "dataSources": [],
   "dockerImageVersionId": 31089,
   "isGpuEnabled": false,
   "isInternetEnabled": true,
   "language": "python",
   "sourceType": "notebook"
  },
  "kernelspec": {
   "display_name": "Python 3",
   "language": "python",
   "name": "python3"
  },
  "language_info": {
   "codemirror_mode": {
    "name": "ipython",
    "version": 3
   },
   "file_extension": ".py",
   "mimetype": "text/x-python",
   "name": "python",
   "nbconvert_exporter": "python",
   "pygments_lexer": "ipython3",
   "version": "3.11.13"
  },
  "papermill": {
   "default_parameters": {},
   "duration": 12.685429,
   "end_time": "2025-09-20T04:37:31.127566",
   "environment_variables": {},
   "exception": null,
   "input_path": "__notebook__.ipynb",
   "output_path": "__notebook__.ipynb",
   "parameters": {},
   "start_time": "2025-09-20T04:37:18.442137",
   "version": "2.6.0"
  }
 },
 "nbformat": 4,
 "nbformat_minor": 5
}
